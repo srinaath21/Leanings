{
 "cells": [
  {
   "cell_type": "code",
   "execution_count": 1,
   "metadata": {},
   "outputs": [],
   "source": [
    "import mysql.connector\n",
    "from mysql.connector import Error\n",
    "import pandas as pd"
   ]
  },
  {
   "cell_type": "code",
   "execution_count": 2,
   "metadata": {},
   "outputs": [
    {
     "name": "stdout",
     "output_type": "stream",
     "text": [
      "MySQL Database connection successful\n"
     ]
    }
   ],
   "source": [
    "def create_server_connection(host_name, user_name, user_password):\n",
    "    connection = None\n",
    "    try:\n",
    "        connection = mysql.connector.connect(\n",
    "            host = host_name, \n",
    "            user = user_name,\n",
    "            password = user_password\n",
    "            )\n",
    "        print(\"MySQL Database connection successful\")\n",
    "    except Error as err:\n",
    "        print(f\"Error: '{err}'\")\n",
    "    return connection\n",
    "# MySql workbech password\n",
    "pw = \"12345678\"\n",
    "# Database name\n",
    "db = 'mysql_python'\n",
    "connection = create_server_connection(\"localhost\", \"root\", pw)\n"
   ]
  },
  {
   "cell_type": "code",
   "execution_count": 3,
   "metadata": {},
   "outputs": [
    {
     "name": "stdout",
     "output_type": "stream",
     "text": [
      "Error: '1007 (HY000): Can't create database 'mysql_python'; database exists'\n"
     ]
    }
   ],
   "source": [
    "# Creating mysql_python database\n",
    "\n",
    "def create_database(connection, query):\n",
    "    cursor = connection.cursor()\n",
    "    try:\n",
    "        cursor.execute(query)\n",
    "        print(\"Database created successfully\")\n",
    "    except Error as err:\n",
    "        print(f\"Error: '{err}'\")\n",
    "create_database_query = \"Create database mysql_python\"\n",
    "create_database(connection, create_database_query)"
   ]
  },
  {
   "cell_type": "code",
   "execution_count": 4,
   "metadata": {},
   "outputs": [],
   "source": [
    "# Connect to database\n",
    "\n",
    "def create_db_connection(host_name, user_name, user_password, db_name):\n",
    "    connection = None\n",
    "    try:\n",
    "        connection = mysql.connector.connect(\n",
    "            host = host_name,\n",
    "            user = user_name,\n",
    "            password = user_password,\n",
    "            db = db_name  \n",
    "        )\n",
    "        print(\"MySQL database connection successful\")\n",
    "    except Error as err:\n",
    "        print(f\"Error:'{err}'\")\n",
    "    return connection"
   ]
  },
  {
   "cell_type": "code",
   "execution_count": 5,
   "metadata": {},
   "outputs": [],
   "source": [
    "# Execute SQL queries \n",
    "\n",
    "def execute_query(connection, query):\n",
    "    cursor = connection.cursor()\n",
    "    try:\n",
    "        cursor.execute(query)\n",
    "        connection.commit()\n",
    "        print(\"Query was successful\")\n",
    "    except Error as err:\n",
    "        print(f\"Error:'{err}'\")\n",
    "    "
   ]
  },
  {
   "cell_type": "code",
   "execution_count": 6,
   "metadata": {},
   "outputs": [
    {
     "name": "stdout",
     "output_type": "stream",
     "text": [
      "MySQL database connection successful\n",
      "Error:'1050 (42S01): Table 'orders' already exists'\n"
     ]
    }
   ],
   "source": [
    "create_orders_table = \"\"\"create table orders(\n",
    "order_ID int primary key, \n",
    "customer_name varchar(30) NOT NULL, \n",
    "product_name varchar(20) NOT NULL,\n",
    "order_date date, \n",
    "quantity int, \n",
    "unit_price float, \n",
    "Phone_number varchar(20)\n",
    ");\"\"\"\n",
    "\n",
    "# connect to the database\n",
    "\n",
    "connection = create_db_connection(\"localhost\", \"root\", pw, db)\n",
    "execute_query(connection, create_orders_table)"
   ]
  },
  {
   "cell_type": "code",
   "execution_count": 7,
   "metadata": {},
   "outputs": [
    {
     "name": "stdout",
     "output_type": "stream",
     "text": [
      "MySQL database connection successful\n",
      "Error:'1062 (23000): Duplicate entry '101' for key 'orders.PRIMARY''\n"
     ]
    }
   ],
   "source": [
    "# Insert Data into table \n",
    "\n",
    "order_data = \"\"\"\n",
    "insert into orders values\n",
    "(101, 'Steve', 'Laptop', '2018-06-12', 2, 800, '5782930920'),\n",
    "(102, 'Jobs', 'Books', '2019-03-08', 10, 23, '1204809823'),\n",
    "(103, 'Stacy', 'Pants', '2019-05-29', 5, 50, '8492394802'),\n",
    "(104, 'Nancy', 'T-Shirt', '2018-01-17', 7, 30, '3402984592'),\n",
    "(105, 'Maria', 'Headphones', '2019-07-30', 6, 48, '1238091824'),\n",
    "(106, 'Danny', 'Smart TV', '2018-04-21', 10, 300, '4239842022');\n",
    "\"\"\"\n",
    "connection = create_db_connection(\"localhost\", \"root\", pw, db)\n",
    "execute_query(connection, order_data)"
   ]
  },
  {
   "cell_type": "code",
   "execution_count": 8,
   "metadata": {},
   "outputs": [],
   "source": [
    "def read_query(connection, query):\n",
    "    cursor = connection.cursor()\n",
    "    result = None\n",
    "    try:\n",
    "        cursor.execute(query)\n",
    "        result = cursor.fetchall()\n",
    "        return result\n",
    "    except Error as err:\n",
    "        print(f\"Error:'{err}'\")\n"
   ]
  },
  {
   "cell_type": "code",
   "execution_count": 9,
   "metadata": {},
   "outputs": [
    {
     "name": "stdout",
     "output_type": "stream",
     "text": [
      "MySQL database connection successful\n",
      "(101, 'Steve', 'Laptop', datetime.date(2018, 6, 12), 2, 800.0, '5782930920')\n",
      "(102, 'Jobs', 'Books', datetime.date(2019, 3, 8), 10, 23.0, '1204809823')\n",
      "(103, 'Stacy', 'Pants', datetime.date(2019, 5, 29), 5, 45.0, '8492394802')\n",
      "(104, 'Nancy', 'T-Shirt', datetime.date(2018, 1, 17), 7, 30.0, '3402984592')\n",
      "(106, 'Danny', 'Smart TV', datetime.date(2018, 4, 21), 10, 300.0, '4239842022')\n"
     ]
    }
   ],
   "source": [
    "# Using SELECT statement\n",
    "\n",
    "q1= \"\"\"select * from orders;\"\"\"\n",
    "connection = create_db_connection(\"localhost\", \"root\", pw, db)\n",
    "results = read_query(connection, q1)\n",
    "for result in results:\n",
    "    print(result)"
   ]
  },
  {
   "cell_type": "code",
   "execution_count": 10,
   "metadata": {},
   "outputs": [
    {
     "name": "stdout",
     "output_type": "stream",
     "text": [
      "MySQL database connection successful\n",
      "('Steve', '5782930920')\n",
      "('Jobs', '1204809823')\n",
      "('Stacy', '8492394802')\n",
      "('Nancy', '3402984592')\n",
      "('Danny', '4239842022')\n"
     ]
    }
   ],
   "source": [
    "q2 = \"\"\"select customer_name, phone_number from orders;\"\"\"\n",
    "connection = create_db_connection(\"localhost\", \"root\", pw, db)\n",
    "results = read_query(connection, q2)\n",
    "for result in results:\n",
    "    print(result)"
   ]
  },
  {
   "cell_type": "code",
   "execution_count": 11,
   "metadata": {},
   "outputs": [
    {
     "name": "stdout",
     "output_type": "stream",
     "text": [
      "MySQL database connection successful\n",
      "(2018,)\n",
      "(2019,)\n",
      "(2019,)\n",
      "(2018,)\n",
      "(2018,)\n"
     ]
    }
   ],
   "source": [
    "q3 = \"\"\"select year(order_date) from orders;\"\"\"\n",
    "connection = create_db_connection(\"localhost\", \"root\", pw, db)\n",
    "results = read_query(connection, q3)\n",
    "for result in results:\n",
    "    print(result)"
   ]
  },
  {
   "cell_type": "code",
   "execution_count": 12,
   "metadata": {},
   "outputs": [
    {
     "name": "stdout",
     "output_type": "stream",
     "text": [
      "MySQL database connection successful\n",
      "(2018,)\n",
      "(2019,)\n"
     ]
    }
   ],
   "source": [
    "q4 = \"\"\"select distinct year(order_date) from orders;\"\"\"\n",
    "connection = create_db_connection(\"localhost\", \"root\", pw, db)\n",
    "results = read_query(connection, q4)\n",
    "for result in results:\n",
    "    print(result)"
   ]
  },
  {
   "cell_type": "code",
   "execution_count": 13,
   "metadata": {},
   "outputs": [
    {
     "name": "stdout",
     "output_type": "stream",
     "text": [
      "MySQL database connection successful\n",
      "(101, 'Steve', 'Laptop', datetime.date(2018, 6, 12), 2, 800.0, '5782930920')\n",
      "(104, 'Nancy', 'T-Shirt', datetime.date(2018, 1, 17), 7, 30.0, '3402984592')\n",
      "(106, 'Danny', 'Smart TV', datetime.date(2018, 4, 21), 10, 300.0, '4239842022')\n"
     ]
    }
   ],
   "source": [
    "q5 = \"\"\"select * from orders where order_date < '2018-12-31';\"\"\"\n",
    "connection = create_db_connection(\"localhost\", \"root\", pw, db)\n",
    "results = read_query(connection, q5)\n",
    "for result in results:\n",
    "    print(result)"
   ]
  },
  {
   "cell_type": "code",
   "execution_count": 14,
   "metadata": {},
   "outputs": [
    {
     "name": "stdout",
     "output_type": "stream",
     "text": [
      "MySQL database connection successful\n",
      "(102, 'Jobs', 'Books', datetime.date(2019, 3, 8), 10, 23.0, '1204809823')\n",
      "(103, 'Stacy', 'Pants', datetime.date(2019, 5, 29), 5, 45.0, '8492394802')\n"
     ]
    }
   ],
   "source": [
    "q6 = \"\"\"select * from orders where order_date > '2018-12-31';\"\"\"\n",
    "connection = create_db_connection(\"localhost\", \"root\", pw, db)\n",
    "results = read_query(connection, q6)\n",
    "for result in results:\n",
    "    print(result)"
   ]
  },
  {
   "cell_type": "code",
   "execution_count": 15,
   "metadata": {},
   "outputs": [
    {
     "name": "stdout",
     "output_type": "stream",
     "text": [
      "MySQL database connection successful\n",
      "(101, 'Steve', 'Laptop', datetime.date(2018, 6, 12), 2, 800.0, '5782930920')\n",
      "(106, 'Danny', 'Smart TV', datetime.date(2018, 4, 21), 10, 300.0, '4239842022')\n",
      "(103, 'Stacy', 'Pants', datetime.date(2019, 5, 29), 5, 45.0, '8492394802')\n",
      "(104, 'Nancy', 'T-Shirt', datetime.date(2018, 1, 17), 7, 30.0, '3402984592')\n",
      "(102, 'Jobs', 'Books', datetime.date(2019, 3, 8), 10, 23.0, '1204809823')\n"
     ]
    }
   ],
   "source": [
    "q7 = \"\"\"select * from orders order by unit_price desc;\"\"\"\n",
    "connection = create_db_connection(\"localhost\", \"root\", pw, db)\n",
    "results = read_query(connection, q7)\n",
    "for result in results:\n",
    "    print(result)"
   ]
  },
  {
   "cell_type": "code",
   "execution_count": 16,
   "metadata": {},
   "outputs": [
    {
     "data": {
      "text/html": [
       "<div>\n",
       "<style scoped>\n",
       "    .dataframe tbody tr th:only-of-type {\n",
       "        vertical-align: middle;\n",
       "    }\n",
       "\n",
       "    .dataframe tbody tr th {\n",
       "        vertical-align: top;\n",
       "    }\n",
       "\n",
       "    .dataframe thead th {\n",
       "        text-align: right;\n",
       "    }\n",
       "</style>\n",
       "<table border=\"1\" class=\"dataframe\">\n",
       "  <thead>\n",
       "    <tr style=\"text-align: right;\">\n",
       "      <th></th>\n",
       "      <th>order_ID</th>\n",
       "      <th>customer_name</th>\n",
       "      <th>product_name</th>\n",
       "      <th>order_date</th>\n",
       "      <th>quantity</th>\n",
       "      <th>unit_price</th>\n",
       "      <th>Phone_number</th>\n",
       "    </tr>\n",
       "  </thead>\n",
       "  <tbody>\n",
       "    <tr>\n",
       "      <th>0</th>\n",
       "      <td>101</td>\n",
       "      <td>Steve</td>\n",
       "      <td>Laptop</td>\n",
       "      <td>2018-06-12</td>\n",
       "      <td>2</td>\n",
       "      <td>800.0</td>\n",
       "      <td>5782930920</td>\n",
       "    </tr>\n",
       "    <tr>\n",
       "      <th>1</th>\n",
       "      <td>106</td>\n",
       "      <td>Danny</td>\n",
       "      <td>Smart TV</td>\n",
       "      <td>2018-04-21</td>\n",
       "      <td>10</td>\n",
       "      <td>300.0</td>\n",
       "      <td>4239842022</td>\n",
       "    </tr>\n",
       "    <tr>\n",
       "      <th>2</th>\n",
       "      <td>103</td>\n",
       "      <td>Stacy</td>\n",
       "      <td>Pants</td>\n",
       "      <td>2019-05-29</td>\n",
       "      <td>5</td>\n",
       "      <td>45.0</td>\n",
       "      <td>8492394802</td>\n",
       "    </tr>\n",
       "    <tr>\n",
       "      <th>3</th>\n",
       "      <td>104</td>\n",
       "      <td>Nancy</td>\n",
       "      <td>T-Shirt</td>\n",
       "      <td>2018-01-17</td>\n",
       "      <td>7</td>\n",
       "      <td>30.0</td>\n",
       "      <td>3402984592</td>\n",
       "    </tr>\n",
       "    <tr>\n",
       "      <th>4</th>\n",
       "      <td>102</td>\n",
       "      <td>Jobs</td>\n",
       "      <td>Books</td>\n",
       "      <td>2019-03-08</td>\n",
       "      <td>10</td>\n",
       "      <td>23.0</td>\n",
       "      <td>1204809823</td>\n",
       "    </tr>\n",
       "  </tbody>\n",
       "</table>\n",
       "</div>"
      ],
      "text/plain": [
       "   order_ID customer_name product_name  order_date  quantity  unit_price  \\\n",
       "0       101         Steve       Laptop  2018-06-12         2       800.0   \n",
       "1       106         Danny     Smart TV  2018-04-21        10       300.0   \n",
       "2       103         Stacy        Pants  2019-05-29         5        45.0   \n",
       "3       104         Nancy      T-Shirt  2018-01-17         7        30.0   \n",
       "4       102          Jobs        Books  2019-03-08        10        23.0   \n",
       "\n",
       "  Phone_number  \n",
       "0   5782930920  \n",
       "1   4239842022  \n",
       "2   8492394802  \n",
       "3   3402984592  \n",
       "4   1204809823  "
      ]
     },
     "execution_count": 16,
     "metadata": {},
     "output_type": "execute_result"
    }
   ],
   "source": [
    "from_db = []\n",
    "for result in results:\n",
    "    result = list(result)\n",
    "    from_db.append(result)\n",
    "col = ['order_ID', 'customer_name', 'product_name', 'order_date', 'quantity', 'unit_price', 'Phone_number']\n",
    "df = pd.DataFrame(from_db, columns=col)\n",
    "df"
   ]
  },
  {
   "cell_type": "code",
   "execution_count": 17,
   "metadata": {},
   "outputs": [
    {
     "name": "stdout",
     "output_type": "stream",
     "text": [
      "MySQL database connection successful\n",
      "Query was successful\n"
     ]
    }
   ],
   "source": [
    "# Update command\n",
    "\n",
    "update_order = \"\"\"update orders set unit_price = 45 where order_ID = 103;\"\"\"\n",
    "connection = create_db_connection(\"localhost\", \"root\", pw, db)\n",
    "execute_query(connection, update_order)"
   ]
  },
  {
   "cell_type": "code",
   "execution_count": 18,
   "metadata": {},
   "outputs": [
    {
     "name": "stdout",
     "output_type": "stream",
     "text": [
      "MySQL database connection successful\n",
      "Query was successful\n"
     ]
    }
   ],
   "source": [
    "# Delete command\n",
    "\n",
    "delete_order = \"\"\" delete from orders where order_ID = 105;\"\"\"\n",
    "connection = create_db_connection(\"localhost\", \"root\", pw, db)\n",
    "execute_query(connection, delete_order)\n"
   ]
  },
  {
   "cell_type": "code",
   "execution_count": 19,
   "metadata": {},
   "outputs": [
    {
     "name": "stdout",
     "output_type": "stream",
     "text": [
      "MySQL database connection successful\n",
      "Error:'Unread result found'\n"
     ]
    }
   ],
   "source": [
    "q8 = \"\"\"select * from orders where length('Phone_number') = 10\"\"\"\n",
    "connection = create_db_connection(\"localhost\", \"root\", pw, db)\n",
    "execute_query(connection, q8)"
   ]
  }
 ],
 "metadata": {
  "kernelspec": {
   "display_name": "Python 3.10.5 64-bit",
   "language": "python",
   "name": "python3"
  },
  "language_info": {
   "codemirror_mode": {
    "name": "ipython",
    "version": 3
   },
   "file_extension": ".py",
   "mimetype": "text/x-python",
   "name": "python",
   "nbconvert_exporter": "python",
   "pygments_lexer": "ipython3",
   "version": "3.10.5"
  },
  "orig_nbformat": 4,
  "vscode": {
   "interpreter": {
    "hash": "04a0967a1de629fc980a1a903edaa46c1b2d697cdce685a233fbf8cc5a509352"
   }
  }
 },
 "nbformat": 4,
 "nbformat_minor": 2
}
