{
 "cells": [
  {
   "cell_type": "markdown",
   "metadata": {},
   "source": [
    "# FOOR LOOP"
   ]
  },
  {
   "cell_type": "code",
   "execution_count": 2,
   "metadata": {},
   "outputs": [
    {
     "name": "stdout",
     "output_type": "stream",
     "text": [
      "S r i n a a t h "
     ]
    }
   ],
   "source": [
    "# Looping through a string\n",
    "\n",
    "s1 = 'Srinaath'\n",
    "for i in s1:\n",
    "    print(i, end=\" \")"
   ]
  },
  {
   "cell_type": "code",
   "execution_count": 4,
   "metadata": {},
   "outputs": [
    {
     "name": "stdout",
     "output_type": "stream",
     "text": [
      "Python Java C++ HTML "
     ]
    }
   ],
   "source": [
    "# Looping through a list\n",
    "\n",
    "programming = ['Python', 'Java', 'C++', 'HTML']\n",
    "for i in programming:\n",
    "    print(i, end=' ')"
   ]
  },
  {
   "cell_type": "code",
   "execution_count": 5,
   "metadata": {},
   "outputs": [
    {
     "name": "stdout",
     "output_type": "stream",
     "text": [
      "sum =  28\n",
      "average =  4.666666666666667\n"
     ]
    }
   ],
   "source": [
    "l1 = [1, 5, 7, 8, 4, 3]\n",
    "sum = 0\n",
    "for i in l1:\n",
    "    sum += i\n",
    "print(\"sum = \", sum)\n",
    "print(\"average = \", sum/len(l1))"
   ]
  },
  {
   "cell_type": "code",
   "execution_count": 10,
   "metadata": {},
   "outputs": [
    {
     "name": "stdout",
     "output_type": "stream",
     "text": [
      "1 2 3 4 5 6 7 8 9 10 "
     ]
    }
   ],
   "source": [
    "# Using range() function\n",
    "\n",
    "for i in range(1, 11):\n",
    "    print(i, end=\" \")"
   ]
  },
  {
   "cell_type": "code",
   "execution_count": 13,
   "metadata": {},
   "outputs": [
    {
     "name": "stdout",
     "output_type": "stream",
     "text": [
      "0 2 4 6 8 10 "
     ]
    }
   ],
   "source": [
    "# Using step in rang() function\n",
    "\n",
    "for i in range(0, 11, 2):\n",
    "    print(i, end = \" \")"
   ]
  },
  {
   "cell_type": "code",
   "execution_count": 14,
   "metadata": {},
   "outputs": [
    {
     "name": "stdout",
     "output_type": "stream",
     "text": [
      "1 x 5 = 5\n",
      "2 x 5 = 10\n",
      "3 x 5 = 15\n",
      "4 x 5 = 20\n",
      "5 x 5 = 25\n",
      "6 x 5 = 30\n",
      "7 x 5 = 35\n",
      "8 x 5 = 40\n",
      "9 x 5 = 45\n",
      "10 x 5 = 50\n"
     ]
    }
   ],
   "source": [
    "# Printing Multiplication Tables\n",
    "n = 5\n",
    "for i in range(1, 11):\n",
    "    print(f\"{i} x {n} = {i*n}\")"
   ]
  },
  {
   "cell_type": "code",
   "execution_count": 15,
   "metadata": {},
   "outputs": [
    {
     "name": "stdout",
     "output_type": "stream",
     "text": [
      "1\n",
      "2\n",
      "3\n",
      "4\n",
      "5\n"
     ]
    }
   ],
   "source": [
    "# Using break statement to break the loop\n",
    "\n",
    "for i in range(1, 11):\n",
    "    if i==6:\n",
    "        break\n",
    "    else:\n",
    "        print(i)"
   ]
  },
  {
   "cell_type": "code",
   "execution_count": 16,
   "metadata": {},
   "outputs": [
    {
     "name": "stdout",
     "output_type": "stream",
     "text": [
      "1\n",
      "2\n",
      "3\n",
      "4\n",
      "5\n",
      "7\n",
      "8\n",
      "9\n",
      "10\n"
     ]
    }
   ],
   "source": [
    "# Using Continue statement\n",
    "\n",
    "for i in range(1, 11):\n",
    "    if(i==6):\n",
    "        continue\n",
    "    print(i)"
   ]
  },
  {
   "cell_type": "code",
   "execution_count": 18,
   "metadata": {},
   "outputs": [
    {
     "name": "stdout",
     "output_type": "stream",
     "text": [
      "Messi score 3 goals\n"
     ]
    }
   ],
   "source": [
    "player_name = \"Messi\"\n",
    "goals = {'Neymar': 2, \"Ronaldo\": 6, 'Messi': 3}\n",
    "\n",
    "for player in goals:\n",
    "    if player==player_name:\n",
    "        print(f\"{player} scored {goals[player]} goals\")\n",
    "        break\n",
    "else:\n",
    "    print(\"No player found\")"
   ]
  },
  {
   "cell_type": "code",
   "execution_count": 19,
   "metadata": {},
   "outputs": [
    {
     "name": "stdout",
     "output_type": "stream",
     "text": [
      "[1, 8, 27, 64, 125, 216, 343, 512, 729, 1000]\n"
     ]
    }
   ],
   "source": [
    "# for loop for appending values in list\n",
    "\n",
    "numbers = [1, 2, 3, 4, 5, 6, 7, 8, 9, 10]\n",
    "cube_value = []\n",
    "for i in numbers:\n",
    "    cube_value.append(i**3)\n",
    "print(cube_value)"
   ]
  },
  {
   "cell_type": "code",
   "execution_count": 12,
   "metadata": {},
   "outputs": [
    {
     "name": "stdout",
     "output_type": "stream",
     "text": [
      "*   \n",
      "*  *   \n",
      "*  *  *   \n",
      "*  *  *  *   \n",
      "*  *  *  *  *   \n",
      "*  *  *  *  *  *   \n"
     ]
    }
   ],
   "source": [
    "# Pattern printing\n",
    "\n",
    "row = 6\n",
    "for i in range(1, row+1):\n",
    "    for j in range(i):\n",
    "        print('*', end='  ')\n",
    "    print(' ')\n"
   ]
  },
  {
   "cell_type": "code",
   "execution_count": 23,
   "metadata": {},
   "outputs": [
    {
     "name": "stdout",
     "output_type": "stream",
     "text": [
      "M _ A _ N _ G _ O _ \n",
      "A _ P _ P _ L _ E _ \n",
      "G _ R _ A _ P _ E _ S _ \n",
      "B _ A _ N _ A _ N _ A _ \n"
     ]
    }
   ],
   "source": [
    "list_names = ['mango', 'apple', 'grapes', 'banana']\n",
    "for fruit in list_names:\n",
    "    fruit = fruit.upper()\n",
    "    for i in fruit:\n",
    "        print(fruit[i], end=' _ ')\n",
    "    print('')"
   ]
  },
  {
   "cell_type": "code",
   "execution_count": 28,
   "metadata": {},
   "outputs": [
    {
     "name": "stdout",
     "output_type": "stream",
     "text": [
      "('Yello', 'Mango')\n",
      "('Green', 'Apple')\n",
      "('Violet', 'Grapes')\n"
     ]
    }
   ],
   "source": [
    "color = ['Yello', 'Green', 'Violet']\n",
    "item = ['Mango', 'Apple', 'Grapes']\n",
    "zipped_list = zip(color, item)\n",
    "for i in zipped_list:\n",
    "    print(i)"
   ]
  },
  {
   "cell_type": "markdown",
   "metadata": {},
   "source": [
    "# LOOPING TECHNIQUES"
   ]
  },
  {
   "cell_type": "code",
   "execution_count": 30,
   "metadata": {},
   "outputs": [
    {
     "name": "stdout",
     "output_type": "stream",
     "text": [
      "2 4 6 11 12 14 22 23 44 54 76 "
     ]
    }
   ],
   "source": [
    "num = [2, 4, 22, 6, 12, 76, 23, 11, 44, 14, 54]\n",
    "for i in sorted(num):\n",
    "    print(i, end=\" \")"
   ]
  },
  {
   "cell_type": "code",
   "execution_count": 23,
   "metadata": {},
   "outputs": [
    {
     "name": "stdout",
     "output_type": "stream",
     "text": [
      "Ronaldo Pepe Neymar Messi "
     ]
    }
   ],
   "source": [
    "players = ['Messi', 'Ronaldo', 'Neymar', 'Pepe']\n",
    "for i in sorted(players, reverse=True):\n",
    "    print(i, end=\" \")\n",
    "    "
   ]
  },
  {
   "cell_type": "code",
   "execution_count": 22,
   "metadata": {},
   "outputs": [
    {
     "name": "stdout",
     "output_type": "stream",
     "text": [
      "b f i k "
     ]
    }
   ],
   "source": [
    "d = {\n",
    "    'f' : 1,\n",
    "    'b' : 3,\n",
    "    'i' : 2,\n",
    "    'k' : 4\n",
    "}\n",
    "for i in sorted(d.keys()):\n",
    "    print(i, end=\" \")\n",
    "    "
   ]
  },
  {
   "cell_type": "code",
   "execution_count": 21,
   "metadata": {},
   "outputs": [
    {
     "name": "stdout",
     "output_type": "stream",
     "text": [
      "('b', 3) ('f', 1) ('i', 2) ('k', 4) "
     ]
    }
   ],
   "source": [
    "d = {\n",
    "    'f' : 1,\n",
    "    'b' : 3,\n",
    "    'i' : 2,\n",
    "    'k' : 4\n",
    "}\n",
    "for i in sorted(d.items()):\n",
    "    print(i, end=\" \")\n",
    "    "
   ]
  },
  {
   "cell_type": "code",
   "execution_count": 20,
   "metadata": {},
   "outputs": [
    {
     "name": "stdout",
     "output_type": "stream",
     "text": [
      "1 2 3 4 "
     ]
    }
   ],
   "source": [
    "d = {\n",
    "    'f' : 1,\n",
    "    'b' : 3,\n",
    "    'i' : 2,\n",
    "    'k' : 4\n",
    "}\n",
    "for i in sorted(d.values()):\n",
    "    print(i, end =' ')\n",
    "    "
   ]
  },
  {
   "cell_type": "code",
   "execution_count": 24,
   "metadata": {},
   "outputs": [
    {
     "name": "stdout",
     "output_type": "stream",
     "text": [
      "Pepe Neymar Ronaldo Messi "
     ]
    }
   ],
   "source": [
    "players = ['Messi', 'Ronaldo', 'Neymar', 'Pepe']\n",
    "for i in reversed(players):\n",
    "    print(i, end=\" \")"
   ]
  },
  {
   "cell_type": "code",
   "execution_count": 25,
   "metadata": {},
   "outputs": [
    {
     "name": "stdout",
     "output_type": "stream",
     "text": [
      "0 The\n",
      "1 brown\n",
      "2 fox\n",
      "3 jumped\n",
      "4 over\n",
      "5 the\n",
      "6 lazy\n",
      "7 dog\n"
     ]
    }
   ],
   "source": [
    "for key, value in enumerate(['The', 'brown', 'fox', 'jumped', 'over', 'the', 'lazy', 'dog']):\n",
    "    print(key, value)"
   ]
  },
  {
   "cell_type": "code",
   "execution_count": 26,
   "metadata": {},
   "outputs": [
    {
     "name": "stdout",
     "output_type": "stream",
     "text": [
      "The brown fox jumped over the lazy dog "
     ]
    }
   ],
   "source": [
    "for key, value in enumerate(['The', 'brown', 'fox', 'jumped', 'over', 'the', 'lazy', 'dog']):\n",
    "    print(value, end=' ')"
   ]
  },
  {
   "cell_type": "code",
   "execution_count": 27,
   "metadata": {},
   "outputs": [
    {
     "name": "stdout",
     "output_type": "stream",
     "text": [
      "('Lionel', 'Messi', 1)\n",
      "('Cristiano', 'Ronaldo', 2)\n",
      "('Mohamed', 'Salah', 3)\n"
     ]
    }
   ],
   "source": [
    "# Zip function\n",
    "\n",
    "first_name = ['Lionel', 'Cristiano', 'Mohamed']\n",
    "last_name = ['Messi', 'Ronaldo', 'Salah']\n",
    "number = [1, 2, 3, 4, 5, 6, 7, 8, 9]\n",
    "for i in zip(first_name, last_name, number):\n",
    "    print(i)"
   ]
  }
 ],
 "metadata": {
  "kernelspec": {
   "display_name": "Python 3.10.5 64-bit",
   "language": "python",
   "name": "python3"
  },
  "language_info": {
   "codemirror_mode": {
    "name": "ipython",
    "version": 3
   },
   "file_extension": ".py",
   "mimetype": "text/x-python",
   "name": "python",
   "nbconvert_exporter": "python",
   "pygments_lexer": "ipython3",
   "version": "3.10.5"
  },
  "orig_nbformat": 4,
  "vscode": {
   "interpreter": {
    "hash": "04a0967a1de629fc980a1a903edaa46c1b2d697cdce685a233fbf8cc5a509352"
   }
  }
 },
 "nbformat": 4,
 "nbformat_minor": 2
}
