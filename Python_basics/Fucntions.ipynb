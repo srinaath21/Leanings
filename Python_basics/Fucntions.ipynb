{
 "cells": [
  {
   "cell_type": "markdown",
   "metadata": {},
   "source": [
    "# Functions"
   ]
  },
  {
   "cell_type": "markdown",
   "metadata": {},
   "source": [
    "# Built-In Functions\n"
   ]
  },
  {
   "cell_type": "code",
   "execution_count": null,
   "metadata": {},
   "outputs": [],
   "source": [
    "# abs()\n",
    "\n",
    "a = abs(-12)\n",
    "a"
   ]
  },
  {
   "cell_type": "code",
   "execution_count": 2,
   "metadata": {},
   "outputs": [
    {
     "name": "stdout",
     "output_type": "stream",
     "text": [
      "8\n",
      "4\n"
     ]
    }
   ],
   "source": [
    "# len()\n",
    "\n",
    "a = 'Srinaath'\n",
    "b = [1, 2, 3, 4]\n",
    "print(len(a))\n",
    "print(len(b))"
   ]
  },
  {
   "cell_type": "code",
   "execution_count": 3,
   "metadata": {},
   "outputs": [
    {
     "name": "stdout",
     "output_type": "stream",
     "text": [
      "83\n",
      "10\n"
     ]
    }
   ],
   "source": [
    "# sum()\n",
    "\n",
    "s = sum([1,2 ,3, 12, 43, 22])\n",
    "s1 = sum((2, 4, 3, 1))\n",
    "print(s)\n",
    "print(s1)"
   ]
  },
  {
   "cell_type": "code",
   "execution_count": 6,
   "metadata": {},
   "outputs": [
    {
     "name": "stdout",
     "output_type": "stream",
     "text": [
      "90\n",
      "1\n"
     ]
    }
   ],
   "source": [
    "# max() and min()\n",
    "\n",
    "l = [1, 5, 10, 20, 11, 90, 28 ,19, 40]\n",
    "print(max(l))\n",
    "print(min(l))"
   ]
  },
  {
   "cell_type": "code",
   "execution_count": 8,
   "metadata": {},
   "outputs": [
    {
     "name": "stdout",
     "output_type": "stream",
     "text": [
      "I\n",
      "N\n",
      "D\n"
     ]
    }
   ],
   "source": [
    "# iter() and next()\n",
    "\n",
    "l1 = iter(['I', 'N', 'D', 'I', 'A'])\n",
    "x = next(l1)\n",
    "print(x)\n",
    "x = next(l1)\n",
    "print(x)\n",
    "x = next(l1)\n",
    "print(x)"
   ]
  },
  {
   "cell_type": "code",
   "execution_count": 9,
   "metadata": {},
   "outputs": [
    {
     "name": "stdout",
     "output_type": "stream",
     "text": [
      "9\n",
      "32\n",
      "25\n"
     ]
    }
   ],
   "source": [
    "# pow()\n",
    "\n",
    "print(pow(3, 2))\n",
    "print(pow(2, 5))\n",
    "print(pow(5, 2 ))"
   ]
  },
  {
   "cell_type": "code",
   "execution_count": 10,
   "metadata": {},
   "outputs": [
    {
     "name": "stdout",
     "output_type": "stream",
     "text": [
      "0 1 2 3 4 5 "
     ]
    }
   ],
   "source": [
    "# range()\n",
    "\n",
    "\n",
    "x = range(6)\n",
    "for i in x:\n",
    "    print(i, end=\" \")"
   ]
  },
  {
   "cell_type": "code",
   "execution_count": 11,
   "metadata": {},
   "outputs": [
    {
     "name": "stdout",
     "output_type": "stream",
     "text": [
      "40 42 44 46 48 50 "
     ]
    }
   ],
   "source": [
    "x = range(40, 51, 2)\n",
    "for i in x:\n",
    "    print(i, end=\" \")"
   ]
  },
  {
   "cell_type": "code",
   "execution_count": 14,
   "metadata": {},
   "outputs": [
    {
     "name": "stdout",
     "output_type": "stream",
     "text": [
      "6.85\n",
      "7.4\n",
      "21.092\n"
     ]
    }
   ],
   "source": [
    "# round()\n",
    "\n",
    "print(round(6.847, 2))\n",
    "print(round(7.412, 1))\n",
    "print(round(21.0921234, 3))"
   ]
  },
  {
   "cell_type": "code",
   "execution_count": 17,
   "metadata": {},
   "outputs": [
    {
     "name": "stdout",
     "output_type": "stream",
     "text": [
      "['A', 'D', 'I', 'I', 'N']\n",
      "[1, 4, 12, 23, 65, 67]\n"
     ]
    }
   ],
   "source": [
    "# sorted() \n",
    "\n",
    "a = ['I', 'N', 'D', 'I', 'A']\n",
    "print(sorted(a))\n",
    "b = [4, 12, 65, 23, 67, 1]\n",
    "print(sorted(b))"
   ]
  },
  {
   "cell_type": "code",
   "execution_count": 18,
   "metadata": {},
   "outputs": [
    {
     "name": "stdout",
     "output_type": "stream",
     "text": [
      "['N', 'I', 'I', 'D', 'A']\n",
      "[67, 65, 23, 12, 4, 1]\n"
     ]
    }
   ],
   "source": [
    "# Reverse sorting \n",
    "\n",
    "a = ['I', 'N', 'D', 'I', 'A']\n",
    "print(sorted(a, reverse=True))\n",
    "b = [4, 12, 65, 23, 67, 1]\n",
    "print(sorted(b, reverse=True))"
   ]
  },
  {
   "cell_type": "markdown",
   "metadata": {},
   "source": [
    "# User Defined Function"
   ]
  },
  {
   "cell_type": "code",
   "execution_count": 19,
   "metadata": {},
   "outputs": [
    {
     "name": "stdout",
     "output_type": "stream",
     "text": [
      "Hello World\n"
     ]
    }
   ],
   "source": [
    "# Creating a simple function\n",
    "\n",
    "def func1():\n",
    "    print(\"Hello World\")\n",
    "\n",
    "func1()"
   ]
  },
  {
   "cell_type": "code",
   "execution_count": 20,
   "metadata": {},
   "outputs": [
    {
     "data": {
      "text/plain": [
       "640.08"
      ]
     },
     "execution_count": 20,
     "metadata": {},
     "output_type": "execute_result"
    }
   ],
   "source": [
    "# Function with Argument\n",
    "\n",
    "def ft_to_cm(ft):\n",
    "    centimeter = ft * 30.48\n",
    "    return centimeter\n",
    "\n",
    "ft_to_cm(21)"
   ]
  },
  {
   "cell_type": "code",
   "execution_count": 21,
   "metadata": {},
   "outputs": [
    {
     "data": {
      "text/plain": [
       "35"
      ]
     },
     "execution_count": 21,
     "metadata": {},
     "output_type": "execute_result"
    }
   ],
   "source": [
    "# Function with 2 arguments\n",
    "\n",
    "def add(x, y):\n",
    "    return x + y\n",
    "\n",
    "add(23, 12)"
   ]
  },
  {
   "cell_type": "code",
   "execution_count": 22,
   "metadata": {},
   "outputs": [
    {
     "data": {
      "text/plain": [
       "120"
      ]
     },
     "execution_count": 22,
     "metadata": {},
     "output_type": "execute_result"
    }
   ],
   "source": [
    "# Factorial Function\n",
    "\n",
    "def fact(x):\n",
    "    if x == 0:\n",
    "        return 1\n",
    "    else:\n",
    "        return x * fact(x-1)\n",
    "\n",
    "fact(5)"
   ]
  },
  {
   "cell_type": "code",
   "execution_count": null,
   "metadata": {},
   "outputs": [],
   "source": []
  }
 ],
 "metadata": {
  "kernelspec": {
   "display_name": "Python 3.10.5 64-bit",
   "language": "python",
   "name": "python3"
  },
  "language_info": {
   "codemirror_mode": {
    "name": "ipython",
    "version": 3
   },
   "file_extension": ".py",
   "mimetype": "text/x-python",
   "name": "python",
   "nbconvert_exporter": "python",
   "pygments_lexer": "ipython3",
   "version": "3.10.5"
  },
  "orig_nbformat": 4,
  "vscode": {
   "interpreter": {
    "hash": "04a0967a1de629fc980a1a903edaa46c1b2d697cdce685a233fbf8cc5a509352"
   }
  }
 },
 "nbformat": 4,
 "nbformat_minor": 2
}
