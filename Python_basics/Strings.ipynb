{
 "cells": [
  {
   "cell_type": "markdown",
   "metadata": {},
   "source": [
    "# STRINGS IN PYTHON"
   ]
  },
  {
   "cell_type": "code",
   "execution_count": 1,
   "metadata": {},
   "outputs": [
    {
     "name": "stdout",
     "output_type": "stream",
     "text": [
      "Srinaath Ramakrishnan\n",
      "MY name is Srinaath Ramakrishnan\n"
     ]
    }
   ],
   "source": [
    "# String initialisation\n",
    "\n",
    "s1 = 'Srinaath'\n",
    "s2 = \"Ramakrishnan\"\n",
    "s3 = f\"\"\"MY name is {s1} {s2}\"\"\"\n",
    "print(s1, s2)\n",
    "print(s3)"
   ]
  },
  {
   "cell_type": "code",
   "execution_count": 2,
   "metadata": {},
   "outputs": [],
   "source": [
    "# String Indexing \n",
    "\n",
    "s1 = 'Srinaath'\n",
    "#  0   1   2   3   4   5   6   7       positive indexing\n",
    "#  S   r   i   n   a   a   t   h\n",
    "# -8  -7  -6  -5  -4  -3  -2  -1       negetive indexing\n"
   ]
  },
  {
   "cell_type": "code",
   "execution_count": 3,
   "metadata": {},
   "outputs": [
    {
     "name": "stdout",
     "output_type": "stream",
     "text": [
      "Hi Sri\n",
      "<class 'str'>\n"
     ]
    }
   ],
   "source": [
    "str1 = 'Hi Sri'\n",
    "print(str1)\n",
    "print(type(str1))"
   ]
  },
  {
   "cell_type": "code",
   "execution_count": 4,
   "metadata": {},
   "outputs": [
    {
     "name": "stdout",
     "output_type": "stream",
     "text": [
      "Nanbargale namma iniki sitiring aam ennavo atha paaka porom\n",
      "adeeyyy bedhi la povaam eleyy kirukku mental payaluvala\n"
     ]
    }
   ],
   "source": [
    "str2 = '''Nanbargale namma iniki sitiring aam ennavo atha paaka porom\n",
    "adeeyyy bedhi la povaam eleyy kirukku mental payaluvala'''\n",
    "print(str2)"
   ]
  },
  {
   "cell_type": "code",
   "execution_count": 5,
   "metadata": {},
   "outputs": [
    {
     "name": "stdout",
     "output_type": "stream",
     "text": [
      "n\n",
      "i\n",
      "t\n",
      "r\n",
      "h\n",
      "a\n",
      "h\n",
      "S\n"
     ]
    }
   ],
   "source": [
    "# Indexing \n",
    "\n",
    "s1 = \"Srinaath\"\n",
    "print(s1[3])\n",
    "print(s1[2])\n",
    "print(s1[6])\n",
    "print(s1[1])\n",
    "print(s1[-1])\n",
    "print(s1[-4])\n",
    "print(s1[7])\n",
    "print(s1[-8])"
   ]
  },
  {
   "cell_type": "code",
   "execution_count": 6,
   "metadata": {},
   "outputs": [
    {
     "name": "stdout",
     "output_type": "stream",
     "text": [
      "Srina\n",
      "rinaath\n",
      "Sri\n",
      "Srinaath\n",
      "Siat\n",
      "htaanirS\n"
     ]
    }
   ],
   "source": [
    "# Slicing\n",
    "\n",
    "s1 = 'Srinaath'\n",
    "\n",
    "print(s1[:5]) # --------------> from 0th index to(5 - 1)th index\n",
    "print(s1[1:8]) # --------------> from 1st index to(8 - 1)th index\n",
    "print(s1[ :-5])\n",
    "print(s1[-8:])\n",
    "print(s1[::2]) # --------------> step size of 2\n",
    "print(s1[::-1]) # --------------> step size of -1 for reverse printing\n",
    "\n",
    "\n"
   ]
  },
  {
   "cell_type": "code",
   "execution_count": 7,
   "metadata": {},
   "outputs": [
    {
     "name": "stdout",
     "output_type": "stream",
     "text": [
      "SrinaathRamakishnan\n",
      "SrinaathSrinaath\n",
      "RamakishnanRamakishnan\n"
     ]
    }
   ],
   "source": [
    "# Concatinating 2 strings\n",
    "\n",
    "s1 = 'Srinaath'\n",
    "s2 = \"Ramakishnan\"\n",
    "print(s1 + s2)\n",
    "print(s1*2)\n",
    "print(s2*2)\n"
   ]
  },
  {
   "cell_type": "code",
   "execution_count": 9,
   "metadata": {},
   "outputs": [
    {
     "name": "stdout",
     "output_type": "stream",
     "text": [
      "False\n",
      "True\n",
      "False\n",
      "True\n"
     ]
    }
   ],
   "source": [
    "# Checking \n",
    "\n",
    "s1 = 'Srinaath'\n",
    "print('w' in s1)\n",
    "print('a' in s1)\n",
    "print('ab' in s1)\n",
    "print('th' in s1)"
   ]
  },
  {
   "cell_type": "code",
   "execution_count": 10,
   "metadata": {},
   "outputs": [
    {
     "name": "stdout",
     "output_type": "stream",
     "text": [
      "Srinaath is good boy\n"
     ]
    }
   ],
   "source": [
    "# Raw string\n",
    "\n",
    "print(r\"Srinaath is good boy\")"
   ]
  },
  {
   "cell_type": "code",
   "execution_count": 12,
   "metadata": {},
   "outputs": [
    {
     "name": "stdout",
     "output_type": "stream",
     "text": [
      "My birthday is on 21/03/2001\n"
     ]
    }
   ],
   "source": [
    "# String Formatting\n",
    "\n",
    "s1 = '21/03/2001'\n",
    "s2 = f\"My birthday is on {s1}\"\n",
    "print(s2)"
   ]
  },
  {
   "cell_type": "code",
   "execution_count": 13,
   "metadata": {},
   "outputs": [
    {
     "name": "stdout",
     "output_type": "stream",
     "text": [
      "SRINAATH IS GOOD\n",
      "srinaath is good\n",
      "Srinaath is good\n",
      "SrInAaTh Is gOoD\n",
      "srinaath is good\n",
      "Srinaath Is Good\n"
     ]
    }
   ],
   "source": [
    "# String In-Built methods\n",
    "\n",
    "s1 = 'sRiNaAtH iS GoOd'\n",
    "print(s1.upper())\n",
    "print(s1.lower())\n",
    "print(s1.capitalize())\n",
    "print(s1.swapcase())\n",
    "print(s1.casefold())\n",
    "print(s1.title())"
   ]
  },
  {
   "cell_type": "code",
   "execution_count": 15,
   "metadata": {},
   "outputs": [
    {
     "name": "stdout",
     "output_type": "stream",
     "text": [
      "4\n",
      "1\n",
      "0\n",
      "2\n",
      "0\n"
     ]
    }
   ],
   "source": [
    "# Count the occurances\n",
    "\n",
    "s1 = \" Srinaath is learing Python Programing\"\n",
    "print(s1.count('a'))\n",
    "print(s1.count('s')) # Case sensitive\n",
    "print(s1.count('p')) # Case sensitive\n",
    "print(s1.count('P')) # Case sensitive\n",
    "print(s1.count('H')) # Case sensitive\n",
    "\n",
    "\n",
    "\n",
    "# Note ---------> the letters are case sensitive"
   ]
  },
  {
   "cell_type": "code",
   "execution_count": 16,
   "metadata": {},
   "outputs": [
    {
     "name": "stdout",
     "output_type": "stream",
     "text": [
      "['Srinaath', 'is', 'learing', 'Python', 'Programing']\n",
      "Srinaath is learing Python Programing\n"
     ]
    }
   ],
   "source": [
    "# split() and strip() functions\n",
    "\n",
    "s1 = \" Srinaath is learing Python Programing\"\n",
    "print(s1.split())\n",
    "print(s1.strip()) # ------------------->removes sapces in front of the sentence. Note the space in the s1 string \" Sri....\""
   ]
  },
  {
   "cell_type": "code",
   "execution_count": null,
   "metadata": {},
   "outputs": [],
   "source": []
  }
 ],
 "metadata": {
  "kernelspec": {
   "display_name": "Python 3.10.5 64-bit",
   "language": "python",
   "name": "python3"
  },
  "language_info": {
   "codemirror_mode": {
    "name": "ipython",
    "version": 3
   },
   "file_extension": ".py",
   "mimetype": "text/x-python",
   "name": "python",
   "nbconvert_exporter": "python",
   "pygments_lexer": "ipython3",
   "version": "3.10.5"
  },
  "orig_nbformat": 4,
  "vscode": {
   "interpreter": {
    "hash": "04a0967a1de629fc980a1a903edaa46c1b2d697cdce685a233fbf8cc5a509352"
   }
  }
 },
 "nbformat": 4,
 "nbformat_minor": 2
}
